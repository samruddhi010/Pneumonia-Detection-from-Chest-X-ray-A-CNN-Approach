{
  "nbformat": 4,
  "nbformat_minor": 0,
  "metadata": {
    "colab": {
      "name": "Tranfer_Learining.ipynb",
      "provenance": [],
      "collapsed_sections": [],
      "mount_file_id": "1lwXXFVqloRwlKeLMY9gRN5PHBsOvPJKC",
      "authorship_tag": "ABX9TyP9Xil9Bbv8xbXWYNBGoBa+",
      "include_colab_link": true
    },
    "kernelspec": {
      "name": "python3",
      "display_name": "Python 3"
    },
    "language_info": {
      "name": "python"
    },
    "accelerator": "GPU"
  },
  "cells": [
    {
      "cell_type": "markdown",
      "metadata": {
        "id": "view-in-github",
        "colab_type": "text"
      },
      "source": [
        "<a href=\"https://colab.research.google.com/github/Pheonix10101/Final_Project/blob/main/Tranfer_Learining.ipynb\" target=\"_parent\"><img src=\"https://colab.research.google.com/assets/colab-badge.svg\" alt=\"Open In Colab\"/></a>"
      ]
    },
    {
      "cell_type": "markdown",
      "source": [
        "**Final Project:Pneumonia Detection from Chest X-ray: A CNN Approach**\n",
        "\n",
        "Author:\n",
        "Samruddhi Raut.\n",
        "\n",
        "This file contain the Transfer learning of pretrained models.\n"
      ],
      "metadata": {
        "id": "rF8zMy_9Yo1k"
      }
    },
    {
      "cell_type": "markdown",
      "source": [
        "\n",
        "\n",
        "\n",
        "**Import Statements**"
      ],
      "metadata": {
        "id": "lBxruKdrZAeB"
      }
    },
    {
      "cell_type": "code",
      "source": [
        "import os\n",
        "import numpy as np\n",
        "import pandas as pd \n",
        "import matplotlib.pyplot as plt\n",
        "import seaborn as sns\n",
        "import tensorflow as tf\n",
        "from tensorflow import keras"
      ],
      "metadata": {
        "id": "sgtmQxgyYoBy"
      },
      "execution_count": null,
      "outputs": []
    },
    {
      "cell_type": "markdown",
      "source": [
        "**Reading through drive**"
      ],
      "metadata": {
        "id": "M9PAZzHuUx_f"
      }
    },
    {
      "cell_type": "code",
      "source": [
        "os.listdir(\"/content/drive/MyDrive/archive(1)/chest_xray\")"
      ],
      "metadata": {
        "colab": {
          "base_uri": "https://localhost:8080/"
        },
        "id": "ncwWy9LjcJly",
        "outputId": "45e2a12c-c83a-4de8-900a-5b0c79b8978c"
      },
      "execution_count": null,
      "outputs": [
        {
          "output_type": "execute_result",
          "data": {
            "text/plain": [
              "['chest_xray', 'test', 'train', '__MACOSX', 'val']"
            ]
          },
          "metadata": {},
          "execution_count": 3
        }
      ]
    },
    {
      "cell_type": "markdown",
      "source": [
        "**Total No.of Pnemonia x-ray**"
      ],
      "metadata": {
        "id": "GnAmIwPHU7fI"
      }
    },
    {
      "cell_type": "code",
      "source": [
        "len(os.listdir(\"/content/drive/MyDrive/archive(1)/chest_xray/chest_xray/train/PNEUMONIA\"))"
      ],
      "metadata": {
        "colab": {
          "base_uri": "https://localhost:8080/"
        },
        "id": "D2uGNwZCAKhW",
        "outputId": "87ae2789-4211-44fa-f562-8159e5d2b9f9"
      },
      "execution_count": null,
      "outputs": [
        {
          "output_type": "execute_result",
          "data": {
            "text/plain": [
              "3876"
            ]
          },
          "metadata": {},
          "execution_count": 4
        }
      ]
    },
    {
      "cell_type": "code",
      "source": [
        "train_dir = \"/content/drive/MyDrive/archive(1)/chest_xray/chest_xray/train\"\n",
        "test_dir = \"/content/drive/MyDrive/archive(1)/chest_xray/chest_xray/test\"\n",
        "val_dir = \"/content/drive/MyDrive/archive(1)/chest_xray/chest_xray/val\"\n",
        "\n",
        "print(\"Train set:\\n========================================\")\n",
        "num_pneumonia = len(os.listdir(os.path.join(train_dir, 'PNEUMONIA')))\n",
        "num_normal = len(os.listdir(os.path.join(train_dir, 'NORMAL')))\n",
        "print(f\"PNEUMONIA={num_pneumonia}\")\n",
        "print(f\"NORMAL={num_normal}\")\n",
        "\n",
        "print(\"Test set:\\n========================================\")\n",
        "print(f\"PNEUMONIA={len(os.listdir(os.path.join(test_dir, 'PNEUMONIA')))}\")\n",
        "print(f\"NORMAL={len(os.listdir(os.path.join(test_dir, 'NORMAL')))}\")\n",
        "\n",
        "print(\"Validation set:\\n========================================\")\n",
        "print(f\"PNEUMONIA={len(os.listdir(os.path.join(val_dir, 'PNEUMONIA')))}\")\n",
        "print(f\"NORMAL={len(os.listdir(os.path.join(val_dir, 'NORMAL')))}\")\n"
      ],
      "metadata": {
        "colab": {
          "base_uri": "https://localhost:8080/"
        },
        "id": "v7vrNsD1YLp5",
        "outputId": "fdf7c82d-7739-4055-e758-3058d301ebd8"
      },
      "execution_count": null,
      "outputs": [
        {
          "output_type": "stream",
          "name": "stdout",
          "text": [
            "Train set:\n",
            "========================================\n",
            "PNEUMONIA=3876\n",
            "NORMAL=1342\n",
            "Test set:\n",
            "========================================\n",
            "PNEUMONIA=390\n",
            "NORMAL=234\n",
            "Validation set:\n",
            "========================================\n",
            "PNEUMONIA=9\n",
            "NORMAL=9\n"
          ]
        }
      ]
    },
    {
      "cell_type": "markdown",
      "source": [
        "**Image Processing**"
      ],
      "metadata": {
        "id": "KjQE7GL_cyAJ"
      }
    },
    {
      "cell_type": "code",
      "source": [
        "from keras.preprocessing.image import ImageDataGenerator\n",
        "\n",
        "image_generator = ImageDataGenerator(\n",
        "    rotation_range=20,\n",
        "    width_shift_range=0.1,\n",
        "    shear_range=0.1,\n",
        "    zoom_range=0.1,\n",
        "    samplewise_center=True,\n",
        "    samplewise_std_normalization=True\n",
        ")\n"
      ],
      "metadata": {
        "id": "OcIUDmOpcaon"
      },
      "execution_count": null,
      "outputs": []
    },
    {
      "cell_type": "code",
      "source": [
        "train = image_generator.flow_from_directory(train_dir, \n",
        "                                            batch_size=8, \n",
        "                                            shuffle=True, \n",
        "                                            class_mode='binary',\n",
        "                                            target_size=(180, 180))\n",
        "\n",
        "validation = image_generator.flow_from_directory(val_dir, \n",
        "                                                batch_size=1, \n",
        "                                                shuffle=False, \n",
        "                                                class_mode='binary',\n",
        "                                                target_size=(180, 180))\n",
        "\n",
        "test = image_generator.flow_from_directory(test_dir, \n",
        "                                            batch_size=1, \n",
        "                                            shuffle=False, \n",
        "                                            class_mode='binary',\n",
        "                                            target_size=(180, 180))"
      ],
      "metadata": {
        "colab": {
          "base_uri": "https://localhost:8080/"
        },
        "id": "CUMJ291wcfbt",
        "outputId": "077d7901-05ef-448b-da69-27255f03a4bc"
      },
      "execution_count": null,
      "outputs": [
        {
          "output_type": "stream",
          "name": "stdout",
          "text": [
            "Found 5216 images belonging to 2 classes.\n",
            "Found 16 images belonging to 2 classes.\n",
            "Found 624 images belonging to 2 classes.\n"
          ]
        }
      ]
    },
    {
      "cell_type": "markdown",
      "source": [
        "**Weight for classes**"
      ],
      "metadata": {
        "id": "oafFsKSwdJWJ"
      }
    },
    {
      "cell_type": "code",
      "source": [
        "weight_for_0 = num_pneumonia / (num_normal + num_pneumonia)\n",
        "weight_for_1 = num_normal / (num_normal + num_pneumonia)\n",
        "\n",
        "class_weight = {0: weight_for_0, 1: weight_for_1}\n",
        "\n",
        "print(f\"Weight for class 0: {weight_for_0:.2f}\")\n",
        "print(f\"Weight for class 1: {weight_for_1:.2f}\")"
      ],
      "metadata": {
        "colab": {
          "base_uri": "https://localhost:8080/"
        },
        "id": "48GZCoRpc1TA",
        "outputId": "016a7f95-b7c5-46c1-9fc3-8d417b19bc98"
      },
      "execution_count": null,
      "outputs": [
        {
          "output_type": "stream",
          "name": "stdout",
          "text": [
            "Weight for class 0: 0.74\n",
            "Weight for class 1: 0.26\n"
          ]
        }
      ]
    },
    {
      "cell_type": "markdown",
      "source": [
        "**Transfer learning**"
      ],
      "metadata": {
        "id": "Ozzshy7wr4og"
      }
    },
    {
      "cell_type": "markdown",
      "source": [
        "**DenseNet** 121"
      ],
      "metadata": {
        "id": "ZDuCkAzFfvQP"
      }
    },
    {
      "cell_type": "code",
      "source": [
        "from keras.applications.densenet import DenseNet121\n",
        "from keras.layers import Dense, GlobalAveragePooling2D\n",
        "from keras.models import Model\n",
        "from keras import backend as K\n",
        "\n",
        "base_model = DenseNet121(input_shape=(180, 180, 3), include_top=False, weights='imagenet', pooling='avg')\n",
        "\n",
        "base_model.summary()"
      ],
      "metadata": {
        "id": "4RtVvmcDr9FB"
      },
      "execution_count": null,
      "outputs": []
    },
    {
      "cell_type": "code",
      "source": [
        "layers = base_model.layers\n",
        "print(f\"The model has {len(layers)} layers\")"
      ],
      "metadata": {
        "colab": {
          "base_uri": "https://localhost:8080/"
        },
        "id": "Q8-wMIFE0AFz",
        "outputId": "c0338524-71fe-4f78-c372-2c6015829643"
      },
      "execution_count": null,
      "outputs": [
        {
          "output_type": "stream",
          "name": "stdout",
          "text": [
            "The model has 428 layers\n"
          ]
        }
      ]
    },
    {
      "cell_type": "code",
      "source": [
        "print(f\"The input shape {base_model.input}\")\n",
        "print(f\"The output shape {base_model.output}\")"
      ],
      "metadata": {
        "colab": {
          "base_uri": "https://localhost:8080/"
        },
        "id": "RDCREQJQ0BeJ",
        "outputId": "0ac50080-1966-4485-aec4-4390f341bbbd"
      },
      "execution_count": null,
      "outputs": [
        {
          "output_type": "stream",
          "name": "stdout",
          "text": [
            "The input shape KerasTensor(type_spec=TensorSpec(shape=(None, 180, 180, 3), dtype=tf.float32, name='input_1'), name='input_1', description=\"created by layer 'input_1'\")\n",
            "The output shape KerasTensor(type_spec=TensorSpec(shape=(None, 1024), dtype=tf.float32, name=None), name='avg_pool/Mean:0', description=\"created by layer 'avg_pool'\")\n"
          ]
        }
      ]
    },
    {
      "cell_type": "markdown",
      "source": [
        "**Defining Loss and Activation Function**"
      ],
      "metadata": {
        "id": "CvC4FTPbf6Yi"
      }
    },
    {
      "cell_type": "code",
      "source": [
        "\n",
        "base_model = DenseNet121(include_top=False, weights='imagenet')\n",
        "x = base_model.output\n",
        "\n",
        "x = GlobalAveragePooling2D()(x)\n",
        "\n",
        "predictions = Dense(1, activation=\"sigmoid\")(x)\n",
        "\n",
        "model = Model(inputs=base_model.input, outputs=predictions)\n",
        "\n",
        "model.compile(loss='binary_crossentropy', \n",
        "              optimizer='adam', \n",
        "              metrics=['accuracy'])"
      ],
      "metadata": {
        "id": "o495hrRJ0Eq9"
      },
      "execution_count": null,
      "outputs": []
    },
    {
      "cell_type": "markdown",
      "source": [
        "**Training**"
      ],
      "metadata": {
        "id": "5VM3QO2XICYT"
      }
    },
    {
      "cell_type": "code",
      "source": [
        "\n",
        "\n",
        "r = model.fit(\n",
        "    train, \n",
        "    epochs=10,\n",
        "    validation_data=validation,\n",
        "    class_weight=class_weight,\n",
        "    steps_per_epoch=50,\n",
        "    validation_steps=25,\n",
        ")\n",
        "\n"
      ],
      "metadata": {
        "id": "i1VdymrF0Nzs"
      },
      "execution_count": null,
      "outputs": []
    },
    {
      "cell_type": "markdown",
      "source": [
        "**Loss and Accracy Plot**"
      ],
      "metadata": {
        "id": "xM0otDR2gEuX"
      }
    },
    {
      "cell_type": "code",
      "source": [
        "plt.figure(figsize=(12, 8))\n",
        "\n",
        "plt.subplot(2, 2, 1)\n",
        "plt.plot(r.history['loss'], label='Loss')\n",
        "plt.plot(r.history['val_loss'], label='Val_Loss')\n",
        "plt.legend()\n",
        "plt.title('Loss Evalution')\n",
        "\n",
        "plt.subplot(2, 2, 2)\n",
        "plt.plot(r.history['accuracy'], label='Accuracy')\n",
        "plt.plot(r.history['val_accuracy'], label='Val_Accuracy')\n",
        "plt.legend()\n",
        "plt.title('Accuracy Evalution')"
      ],
      "metadata": {
        "id": "7lC_StCNWNuB"
      },
      "execution_count": null,
      "outputs": []
    },
    {
      "cell_type": "code",
      "source": [
        "predicted_vals = model.predict(test, steps=len(test))"
      ],
      "metadata": {
        "id": "YEWyBMu9Wcdq"
      },
      "execution_count": null,
      "outputs": []
    },
    {
      "cell_type": "code",
      "source": [
        "\n",
        "from sklearn.metrics import confusion_matrix, classification_report\n",
        "print(confusion_matrix(test.classes, predicted_vals > 0.5))\n",
        "pd.DataFrame(classification_report(test.classes, predicted_vals > 0.5, output_dict=True))\n"
      ],
      "metadata": {
        "id": "DazpAQjR0Zr1"
      },
      "execution_count": null,
      "outputs": []
    },
    {
      "cell_type": "markdown",
      "source": [
        "**Evaluating Train and Test accuracy**"
      ],
      "metadata": {
        "id": "xKahT2BpgNcL"
      }
    },
    {
      "cell_type": "code",
      "source": [
        "\n",
        "evaluation = model.evaluate(test)\n",
        "print(f\"Test Accuracy: {evaluation[1] * 100:.2f}%\")\n",
        "\n",
        "evaluation = model.evaluate(train)\n",
        "print(f\"Train Accuracy: {evaluation[1] * 100:.2f}%\")\n"
      ],
      "metadata": {
        "id": "kEnr5wCwstVw"
      },
      "execution_count": null,
      "outputs": []
    },
    {
      "cell_type": "markdown",
      "source": [
        "**VGG16**"
      ],
      "metadata": {
        "id": "4SxC8nEiMHxG"
      }
    },
    {
      "cell_type": "code",
      "source": [
        "import keras\n",
        "from keras import applications\n",
        "from keras.models import Sequential\n",
        "from keras.layers import GlobalAveragePooling2D\n",
        "from keras.applications.vgg16 import VGG16\n",
        "\n",
        "vgg16_base_model = VGG16(input_shape=(180,180,3),include_top=False,weights='imagenet')\n"
      ],
      "metadata": {
        "id": "7LZOwDCcsx-g"
      },
      "execution_count": null,
      "outputs": []
    },
    {
      "cell_type": "markdown",
      "source": [
        "**Model Summary**"
      ],
      "metadata": {
        "id": "yZs-rG0zWxq6"
      }
    },
    {
      "cell_type": "code",
      "source": [
        "vgg16_base_model.summary()"
      ],
      "metadata": {
        "id": "V5JRgAScszDE"
      },
      "execution_count": null,
      "outputs": []
    },
    {
      "cell_type": "code",
      "source": [
        "vgg16_model = tf.keras.Sequential([\n",
        "        vgg16_base_model,\n",
        "        GlobalAveragePooling2D(),\n",
        "        Dense(512, activation=\"relu\"),\n",
        "        BatchNormalization(),\n",
        "        Dropout(0.6),\n",
        "        Dense(128, activation=\"relu\"),\n",
        "        BatchNormalization(),\n",
        "        Dropout(0.4),\n",
        "        Dense(64,activation=\"relu\"),\n",
        "        BatchNormalization(),\n",
        "        Dropout(0.3),\n",
        "        Dense(1,activation=\"sigmoid\")\n",
        "    ])"
      ],
      "metadata": {
        "id": "sgxoJoR0s1uD"
      },
      "execution_count": null,
      "outputs": []
    },
    {
      "cell_type": "markdown",
      "source": [
        "**Defining Optimizer and loss function**"
      ],
      "metadata": {
        "id": "d4dkR7FCW9zo"
      }
    },
    {
      "cell_type": "code",
      "source": [
        "opt = tf.keras.optimizers.Adam(learning_rate=0.001)\n",
        "METRICS = [\n",
        "        'accuracy',\n",
        "        tf.keras.metrics.Precision(name='precision'),\n",
        "        tf.keras.metrics.Recall(name='recall')\n",
        "    ]\n",
        "vgg16_model.compile(optimizer=opt,loss='binary_crossentropy',metrics=METRICS)"
      ],
      "metadata": {
        "id": "tRZfx1zStAFi"
      },
      "execution_count": null,
      "outputs": []
    },
    {
      "cell_type": "markdown",
      "source": [
        "**Training**"
      ],
      "metadata": {
        "id": "5EduUxtZW5y4"
      }
    },
    {
      "cell_type": "code",
      "source": [
        "r = vgg16_model.fit(train,\n",
        "          epochs=10,\n",
        "          validation_data=validation,\n",
        "          class_weight=class_weight,\n",
        "          steps_per_epoch=100,\n",
        "          validation_steps=25)"
      ],
      "metadata": {
        "id": "Bhl-nwqotAsQ"
      },
      "execution_count": null,
      "outputs": []
    },
    {
      "cell_type": "markdown",
      "source": [
        "**Loss and Accuracy Plot**"
      ],
      "metadata": {
        "id": "5aAXOcm-XEcs"
      }
    },
    {
      "cell_type": "code",
      "source": [
        "plt.figure(figsize=(12, 8))\n",
        "\n",
        "plt.subplot(2, 2, 1)\n",
        "plt.plot(r.history['loss'], label='Loss')\n",
        "plt.plot(r.history['val_loss'], label='Val_Loss')\n",
        "plt.legend()\n",
        "plt.title('Loss Evolution')\n",
        "\n",
        "plt.subplot(2, 2, 2)\n",
        "plt.plot(r.history['accuracy'], label='Accuracy')\n",
        "plt.plot(r.history['val_accuracy'], label='Val_Accuracy')\n",
        "plt.legend()\n",
        "plt.title('Accuracy Evolution')"
      ],
      "metadata": {
        "id": "9qK_shLWXE6p"
      },
      "execution_count": null,
      "outputs": []
    },
    {
      "cell_type": "markdown",
      "source": [
        "**Model Evaluation**"
      ],
      "metadata": {
        "id": "C4yrtlN3XOB3"
      }
    },
    {
      "cell_type": "code",
      "source": [
        "evaluation =vgg16_model.evaluate(test)\n",
        "print(f\"Test Accuracy: {evaluation[1] * 100:.2f}%\")\n",
        "\n",
        "evaluation = vgg16_model.evaluate(train)\n",
        "print(f\"Train Accuracy: {evaluation[1] * 100:.2f}%\")"
      ],
      "metadata": {
        "colab": {
          "base_uri": "https://localhost:8080/"
        },
        "id": "nWUY2o7vuG9P",
        "outputId": "e571990a-1f4d-495e-9cc1-925f2fa384d6"
      },
      "execution_count": null,
      "outputs": [
        {
          "output_type": "stream",
          "name": "stdout",
          "text": [
            "624/624 [==============================] - 23s 37ms/step - loss: 0.6016 - accuracy: 0.7917 - precision: 0.9167 - recall: 0.7333\n",
            "Test Accuracy: 79.17%\n",
            "652/652 [==============================] - 140s 214ms/step - loss: 0.6713 - accuracy: 0.7650 - precision: 0.9907 - recall: 0.6901\n",
            "Train Accuracy: 76.50%\n"
          ]
        }
      ]
    },
    {
      "cell_type": "markdown",
      "source": [
        "**Confusion Matrix**"
      ],
      "metadata": {
        "id": "_2IsijGvXSqd"
      }
    },
    {
      "cell_type": "code",
      "source": [
        "\n",
        "\n",
        "pred_vgg = model.predict(test)\n",
        "\n",
        "print(confusion_matrix(test.classes, pred_vgg > 0.5))\n",
        "pd.DataFrame(classification_report(test.classes, pred_vgg > 0.5, output_dict=True))"
      ],
      "metadata": {
        "id": "ptyNxLkCe79t"
      },
      "execution_count": null,
      "outputs": []
    },
    {
      "cell_type": "markdown",
      "source": [
        "**ResNet50**"
      ],
      "metadata": {
        "id": "mHF4BZo-uMdd"
      }
    },
    {
      "cell_type": "code",
      "source": [
        "\n",
        "from tensorflow.keras.applications.resnet50 import ResNet50\n",
        "\n",
        "resnet_base_model = ResNet50(input_shape=(180,180,3), include_top=False, weights='imagenet')\n",
        "\n"
      ],
      "metadata": {
        "colab": {
          "base_uri": "https://localhost:8080/"
        },
        "id": "KtoTJY4euNiu",
        "outputId": "68da0bb9-a16f-41e1-8f9f-19e4bae16b5b"
      },
      "execution_count": null,
      "outputs": [
        {
          "output_type": "stream",
          "name": "stdout",
          "text": [
            "Downloading data from https://storage.googleapis.com/tensorflow/keras-applications/resnet/resnet50_weights_tf_dim_ordering_tf_kernels_notop.h5\n",
            "94773248/94765736 [==============================] - 1s 0us/step\n",
            "94781440/94765736 [==============================] - 1s 0us/step\n"
          ]
        }
      ]
    },
    {
      "cell_type": "markdown",
      "source": [
        "**Model Summary**"
      ],
      "metadata": {
        "id": "juSfAcHeXhuY"
      }
    },
    {
      "cell_type": "code",
      "source": [
        "resnet_base_model.summary()"
      ],
      "metadata": {
        "id": "bUt_0uYhuOU5"
      },
      "execution_count": null,
      "outputs": []
    },
    {
      "cell_type": "markdown",
      "source": [
        "**Defining activation function**"
      ],
      "metadata": {
        "id": "6qoLVfkhXfgm"
      }
    },
    {
      "cell_type": "code",
      "source": [
        "resnet_model = tf.keras.Sequential([\n",
        "        resnet_base_model,\n",
        "        GlobalAveragePooling2D(),\n",
        "        Dense(512, activation=\"relu\"),\n",
        "        BatchNormalization(),\n",
        "        Dropout(0.6),\n",
        "        Dense(128, activation=\"relu\"),\n",
        "        BatchNormalization(),\n",
        "        Dropout(0.4),\n",
        "        Dense(64,activation=\"relu\"),\n",
        "        BatchNormalization(),\n",
        "        Dropout(0.3),\n",
        "        Dense(1,activation=\"sigmoid\")\n",
        "    ])\n",
        "\n",
        "opt = tf.keras.optimizers.Adam(learning_rate=0.001)\n",
        "METRICS = [\n",
        "        'accuracy',\n",
        "        tf.keras.metrics.Precision(name='precision'),\n",
        "        tf.keras.metrics.Recall(name='recall')\n",
        "    ]\n",
        "resnet_model.compile(optimizer=opt,loss='binary_crossentropy',metrics=METRICS)"
      ],
      "metadata": {
        "id": "lRJJBX6quRLD"
      },
      "execution_count": null,
      "outputs": []
    },
    {
      "cell_type": "markdown",
      "source": [
        "**Training**"
      ],
      "metadata": {
        "id": "DY9e1sHFXrWS"
      }
    },
    {
      "cell_type": "code",
      "source": [
        "r = resnet_model.fit(train,\n",
        "          epochs=10,\n",
        "          validation_data=validation,\n",
        "          class_weight=class_weight,\n",
        "          steps_per_epoch=100,\n",
        "          validation_steps=25)"
      ],
      "metadata": {
        "id": "h9mVZ_GYuaCA"
      },
      "execution_count": null,
      "outputs": []
    },
    {
      "cell_type": "markdown",
      "source": [
        "**Loss and Accuracy Plot**"
      ],
      "metadata": {
        "id": "PH9APRLZXvge"
      }
    },
    {
      "cell_type": "code",
      "source": [
        "plt.figure(figsize=(12, 8))\n",
        "\n",
        "plt.subplot(2, 2, 1)\n",
        "plt.plot(r.history['loss'], label='Loss')\n",
        "plt.plot(r.history['val_loss'], label='Val_Loss')\n",
        "plt.legend()\n",
        "plt.title('Loss Evolution')\n",
        "\n",
        "plt.subplot(2, 2, 2)\n",
        "plt.plot(r.history['accuracy'], label='Accuracy')\n",
        "plt.plot(r.history['val_accuracy'], label='Val_Accuracy')\n",
        "plt.legend()\n",
        "plt.title('Accuracy Evolution')"
      ],
      "metadata": {
        "id": "NSRr0d8YXvtU"
      },
      "execution_count": null,
      "outputs": []
    },
    {
      "cell_type": "markdown",
      "source": [
        "**Model Evaluation**"
      ],
      "metadata": {
        "id": "LKI_ZIIGX1qn"
      }
    },
    {
      "cell_type": "code",
      "source": [
        "evaluation =resnet_model.evaluate(test)\n",
        "print(f\"Test Accuracy: {evaluation[1] * 100:.2f}%\")\n",
        "\n",
        "evaluation = resnet_model.evaluate(train)\n",
        "print(f\"Train Accuracy: {evaluation[1] * 100:.2f}%\")"
      ],
      "metadata": {
        "id": "J-wazUJ9ugiG"
      },
      "execution_count": null,
      "outputs": []
    },
    {
      "cell_type": "markdown",
      "source": [
        "**Result Prediction and confusion Matrix**"
      ],
      "metadata": {
        "id": "QuZ7UatCX5qx"
      }
    },
    {
      "cell_type": "code",
      "source": [
        "pred_res50 = model.predict(test)\n",
        "\n",
        "print(confusion_matrix(test.classes, pred_res50 > 0.5))\n",
        "pd.DataFrame(classification_report(test.classes, pred_res50 > 0.5, output_dict=True))"
      ],
      "metadata": {
        "id": "_G9cGwJI9QOR"
      },
      "execution_count": null,
      "outputs": []
    },
    {
      "cell_type": "markdown",
      "source": [
        "**InceptionV3**"
      ],
      "metadata": {
        "id": "RgfgpkTuuvpz"
      }
    },
    {
      "cell_type": "code",
      "source": [
        "from tensorflow.keras.applications import InceptionV3\n",
        "\n",
        "inception_base_model = InceptionV3(input_shape=(180,180,3),include_top=False,weights='imagenet')"
      ],
      "metadata": {
        "id": "heoJDh_FutJe",
        "colab": {
          "base_uri": "https://localhost:8080/"
        },
        "outputId": "f4231470-e0bc-4365-ec8d-6bffca466821"
      },
      "execution_count": null,
      "outputs": [
        {
          "output_type": "stream",
          "name": "stdout",
          "text": [
            "Downloading data from https://storage.googleapis.com/tensorflow/keras-applications/inception_v3/inception_v3_weights_tf_dim_ordering_tf_kernels_notop.h5\n",
            "87916544/87910968 [==============================] - 1s 0us/step\n",
            "87924736/87910968 [==============================] - 1s 0us/step\n"
          ]
        }
      ]
    },
    {
      "cell_type": "markdown",
      "source": [
        "**Defining activation function and optimizer**"
      ],
      "metadata": {
        "id": "mNch5qH2YHEl"
      }
    },
    {
      "cell_type": "code",
      "source": [
        "inception_model = tf.keras.Sequential([\n",
        "        inception_base_model,\n",
        "        GlobalAveragePooling2D(),\n",
        "        Dense(512, activation=\"relu\"),\n",
        "        BatchNormalization(),\n",
        "        Dropout(0.6),\n",
        "        Dense(128, activation=\"relu\"),\n",
        "        BatchNormalization(),\n",
        "        Dropout(0.4),\n",
        "        Dense(64,activation=\"relu\"),\n",
        "        BatchNormalization(),\n",
        "        Dropout(0.3),\n",
        "        Dense(1,activation=\"sigmoid\")\n",
        "    ])\n",
        "\n",
        "opt = tf.keras.optimizers.Adam(learning_rate=0.001)\n",
        "METRICS = [\n",
        "        'accuracy',\n",
        "        tf.keras.metrics.Precision(name='precision'),\n",
        "        tf.keras.metrics.Recall(name='recall')\n",
        "    ]\n",
        "inception_model.compile(optimizer=opt,loss='binary_crossentropy',metrics=METRICS)"
      ],
      "metadata": {
        "id": "pURX9Y1tu36t"
      },
      "execution_count": null,
      "outputs": []
    },
    {
      "cell_type": "markdown",
      "source": [
        "**Model Training**"
      ],
      "metadata": {
        "id": "UxcXufxmYT_I"
      }
    },
    {
      "cell_type": "code",
      "source": [
        "r = inception_model.fit(train,\n",
        "          epochs=10,\n",
        "          validation_data=validation,\n",
        "          class_weight=class_weight,\n",
        "          steps_per_epoch=100,\n",
        "          validation_steps=25)"
      ],
      "metadata": {
        "id": "kqfdQUdwu8E_"
      },
      "execution_count": null,
      "outputs": []
    },
    {
      "cell_type": "markdown",
      "source": [
        "**Loss and Accuracy Plot**"
      ],
      "metadata": {
        "id": "U84Sg72tYfAY"
      }
    },
    {
      "cell_type": "code",
      "source": [
        "plt.figure(figsize=(12, 8))\n",
        "\n",
        "plt.subplot(2, 2, 1)\n",
        "plt.plot(r.history['loss'], label='Loss')\n",
        "plt.plot(r.history['val_loss'], label='Val_Loss')\n",
        "plt.legend()\n",
        "plt.title('Loss Evolution')\n",
        "\n",
        "plt.subplot(2, 2, 2)\n",
        "plt.plot(r.history['accuracy'], label='Accuracy')\n",
        "plt.plot(r.history['val_accuracy'], label='Val_Accuracy')\n",
        "plt.legend()\n",
        "plt.title('Accuracy Evolution')"
      ],
      "metadata": {
        "id": "GbleX2rFYpmz"
      },
      "execution_count": null,
      "outputs": []
    },
    {
      "cell_type": "markdown",
      "source": [
        "**Model Evaluation**"
      ],
      "metadata": {
        "id": "7jPxN5NFY12P"
      }
    },
    {
      "cell_type": "code",
      "source": [
        "evaluation =inception_model.evaluate(test)\n",
        "print(f\"Test Accuracy: {evaluation[1] * 100:.2f}%\")\n",
        "\n",
        "evaluation = inception_model.evaluate(train)\n",
        "print(f\"Train Accuracy: {evaluation[1] * 100:.2f}%\")"
      ],
      "metadata": {
        "id": "MLrUUTFuvHrt",
        "colab": {
          "base_uri": "https://localhost:8080/"
        },
        "outputId": "50508bf7-d118-4bb0-99ec-02ffda845c0b"
      },
      "execution_count": null,
      "outputs": [
        {
          "output_type": "stream",
          "name": "stdout",
          "text": [
            "624/624 [==============================] - 27s 43ms/step - loss: 0.5047 - accuracy: 0.8109 - precision: 0.8523 - recall: 0.8436\n",
            "Test Accuracy: 81.09%\n",
            "652/652 [==============================] - 151s 232ms/step - loss: 0.6711 - accuracy: 0.8391 - precision: 0.9925 - recall: 0.7894\n",
            "Train Accuracy: 83.91%\n"
          ]
        }
      ]
    },
    {
      "cell_type": "markdown",
      "source": [
        "**Result Prediction and confusion matrix**"
      ],
      "metadata": {
        "id": "i6Zh5ZxTY9Kx"
      }
    },
    {
      "cell_type": "code",
      "source": [
        "pred_inc = model.predict(test)\n",
        "\n",
        "print(confusion_matrix(test.classes, pred_inc > 0.5))\n",
        "pd.DataFrame(classification_report(test.classes, pred_inc > 0.5, output_dict=True))"
      ],
      "metadata": {
        "id": "UdDruCwZC08Z"
      },
      "execution_count": null,
      "outputs": []
    }
  ]
}